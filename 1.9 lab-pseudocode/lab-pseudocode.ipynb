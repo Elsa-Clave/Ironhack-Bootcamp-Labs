{
 "cells": [
  {
   "cell_type": "markdown",
   "metadata": {},
   "source": [
    "# PSEUDOCODE\n",
    "\n",
    "(Please dont kill me)\n"
   ]
  },
  {
   "cell_type": "code",
   "execution_count": null,
   "metadata": {},
   "outputs": [],
   "source": [
    "#Miedo me da este lab...a ver si me sale !"
   ]
  },
  {
   "cell_type": "markdown",
   "metadata": {},
   "source": [
    "In this lab, you will work to find any solution(hopefully the easiest) to complete this exercises. \n",
    "\n",
    "The second 1 is a BONUS\n",
    "\n",
    "Any further question please ask me or Sandra"
   ]
  },
  {
   "cell_type": "markdown",
   "metadata": {},
   "source": [
    "## EXERCISE 1: RANDOM GUESS OF A NUMBER\n",
    "\n",
    "The user must give you the start and final number. Your code must be developed to select a random number between this 2. If your selection is too high/low you must give a hint to the user: The number is too high/low. Finally, when the user selects the correct number you must return a \"Congratulations etc\" and the number of guesses needed to find the number. \n",
    "\n",
    "IF YOU TRY IT AND YOU FIND THE NUMBER FIRST GUESS, PLEASE SEND A SCREENSHOT VIA SLACK `(MANDATORY)`"
   ]
  },
  {
   "cell_type": "code",
   "execution_count": 4,
   "metadata": {},
   "outputs": [],
   "source": [
    "import random\n",
    "def random_guess():\n",
    "    start_ = int(input(\"Write a starting number: \"))\n",
    "    stop_ = int(input(\"Write a finishing number: \"))\n",
    "    n_guess = random.randint(start_,stop_)\n",
    "    guesses = 0\n",
    "\n",
    "    while True:\n",
    "        guess = int(input(\"Wich number do you guess?:\"))\n",
    "        guesses +=1\n",
    "\n",
    "        if guess > n_guess:\n",
    "            print(\"Your guess is too high, try again!\")\n",
    "        elif guess < n_guess:\n",
    "            print(\"Your guess is too low, try again!\")\n",
    "        else:\n",
    "            print(\"Congrats! You've guessed it!\")\n",
    "            print(\"Nmber of attempts:\", guesses)\n",
    "            break\n",
    "\n",
    "         \n",
    "\n",
    "    "
   ]
  },
  {
   "cell_type": "code",
   "execution_count": 5,
   "metadata": {},
   "outputs": [
    {
     "name": "stdout",
     "output_type": "stream",
     "text": [
      "Your guess is too high, try again!\n",
      "Your guess is too high, try again!\n",
      "Congrats! You've guessed it!\n",
      "Nmber of attempts: 3\n"
     ]
    }
   ],
   "source": [
    "random_guess()"
   ]
  },
  {
   "cell_type": "markdown",
   "metadata": {},
   "source": [
    "## EXERCISE 2 (OPTIONAL): LET'S DEVELOP R-P-S"
   ]
  },
  {
   "cell_type": "markdown",
   "metadata": {},
   "source": [
    "Let's develop the code used in class: The R-P-S (Example below)\n",
    "The main problem with this code is that whoever wins a round, wins the match: The user must select the number of rounds needed to win the match. Enjoy!"
   ]
  },
  {
   "cell_type": "code",
   "execution_count": null,
   "metadata": {},
   "outputs": [],
   "source": [
    "def rps(): \n",
    "    import random\n",
    "    opciones=[\"tijera\", \"piedra\", \"papel\"]\n",
    "    user=input(\"Un dos tres, piedra papel tijera un dos tres YA: \").lower()\n",
    "    cpu=random.choice(opciones)\n",
    "\n",
    "    while True:\n",
    "        if user in opciones: \n",
    "            break\n",
    "        else: \n",
    "            user=input(\"ESO NO VALE. Dime otra cosa: \")\n",
    "    print(f\"Tú has elegido {user} y la máquina ha elegido {cpu}\")\n",
    "    if (user==\"tijera\" and cpu==\"papel\") or (user==\"papel\" and cpu==\"piedra\") or (user==\"piedra\" and cpu==\"tijera\"):\n",
    "        print(\"Has ganado!!\")\n",
    "        return \"Ganador\"\n",
    "    elif user==cpu:\n",
    "        print(\"Empate!\")\n",
    "        return \"Empate\"\n",
    "\n",
    "    else: \n",
    "        print(\"Has perdido!\")\n",
    "        return \"Perdedor\""
   ]
  },
  {
   "cell_type": "code",
   "execution_count": 10,
   "metadata": {},
   "outputs": [],
   "source": [
    "def rps(): \n",
    "    import random\n",
    "    opciones = [\"tijera\", \"piedra\", \"papel\"]\n",
    "    user_gana = 0\n",
    "    cpu_gana = 0\n",
    "\n",
    "    rounds = int(input(\"Cúantas rondas quieres jugar para la partida?: \"))\n",
    "\n",
    "    while user_gana < rounds and cpu_gana < rounds:\n",
    "        user = input(\"Un dos tres, piedra papel tijera un dos tres YA: \").lower()\n",
    "        while user not in opciones:\n",
    "         user=input(\"ESO NO VALE. Dime otra cosa: \")\n",
    "\n",
    "\n",
    "        cpu=random.choice(opciones)\n",
    "        print(f\"Tú has elegido {user} y la máquina ha elegido {cpu}\")\n",
    "\n",
    "\n",
    "        if (user==\"tijera\" and cpu==\"papel\") or (user==\"papel\" and cpu==\"piedra\") or (user==\"piedra\" and cpu==\"tijera\"):\n",
    "             print(\"Has ganado esta ronda!!\")\n",
    "             user_gana +=1\n",
    "        elif user==cpu:\n",
    "              print(\"Empate en esta ronda!\")\n",
    "        else:\n",
    "              print(\"Has perdido esta romda!\")\n",
    "              cpu_gana  +=1\n",
    "\n",
    "    if user_gana > cpu_gana:\n",
    "        print(\"¡Felicidades! Has ganado la partida.\")\n",
    "        return \"Ganador\"\n",
    "    elif user_gana == cpu_gana:\n",
    "        print(\"La partida ha terminado en empate.\")\n",
    "        return \"Empate\"\n",
    "    else:\n",
    "        print(\"Has perdido la partida.\")\n",
    "        return \"Perdedor\"\n",
    "\n",
    "\n",
    "\n",
    "\n",
    "          "
   ]
  },
  {
   "cell_type": "code",
   "execution_count": 11,
   "metadata": {},
   "outputs": [
    {
     "name": "stdout",
     "output_type": "stream",
     "text": [
      "Tú has elegido piedra y la máquina ha elegido tijera\n",
      "Has ganado esta ronda!!\n",
      "Tú has elegido papel y la máquina ha elegido piedra\n",
      "Has ganado esta ronda!!\n",
      "¡Felicidades! Has ganado la partida.\n"
     ]
    },
    {
     "data": {
      "text/plain": [
       "'Ganador'"
      ]
     },
     "execution_count": 11,
     "metadata": {},
     "output_type": "execute_result"
    }
   ],
   "source": [
    "rps()"
   ]
  }
 ],
 "metadata": {
  "kernelspec": {
   "display_name": "toni2",
   "language": "python",
   "name": "python3"
  },
  "language_info": {
   "codemirror_mode": {
    "name": "ipython",
    "version": 3
   },
   "file_extension": ".py",
   "mimetype": "text/x-python",
   "name": "python",
   "nbconvert_exporter": "python",
   "pygments_lexer": "ipython3",
   "version": "3.11.7"
  }
 },
 "nbformat": 4,
 "nbformat_minor": 2
}
