{
 "cells": [
  {
   "cell_type": "markdown",
   "metadata": {},
   "source": [
    "# PANDAS LAB - Continuation of the EuroLeague Case Study\n",
    "## Let's compare the competitions!\n",
    "\n",
    "![](https://eurospects.com/wp-content/uploads/2018/10/eurocupeuroleague.png)\n",
    "\n",
    "First of all, we must \n",
    "\n",
    "- Import the actual.csv Dataset. This dataset will be the CSV of the result obtained in class.\n",
    "- Import ec23.xlsx. This dataset correspond to the import the dataset corresponding to Eurocup. Don't worry, this time the Excel will be cleaned (almost)\n",
    "\n",
    "<details>\n",
    "    <summary> Lab results </summary>\n",
    "\n",
    "![](https://media1.tenor.com/m/lx2WSGRk8bcAAAAC/pulp-fiction-john-travolta.gif)\n",
    "\n",
    "PERO QUÉ OS HABÉIS CREÍDO\n",
    "\n",
    "</details>"
   ]
  },
  {
   "cell_type": "code",
   "execution_count": null,
   "metadata": {},
   "outputs": [],
   "source": [
    "#pip install openpyxl\n",
    "# In case there is an error with this .xlsx document opening, install this library"
   ]
  },
  {
   "cell_type": "code",
   "execution_count": 3,
   "metadata": {},
   "outputs": [
    {
     "name": "stdout",
     "output_type": "stream",
     "text": [
      "Collecting openpyxl\n",
      "  Downloading openpyxl-3.1.2-py2.py3-none-any.whl (249 kB)\n",
      "     ---------------------------------------- 0.0/250.0 kB ? eta -:--:--\n",
      "     - -------------------------------------- 10.2/250.0 kB ? eta -:--:--\n",
      "     ---- -------------------------------- 30.7/250.0 kB 435.7 kB/s eta 0:00:01\n",
      "     ------------- ----------------------- 92.2/250.0 kB 744.7 kB/s eta 0:00:01\n",
      "     -------------------------------------  245.8/250.0 kB 1.9 MB/s eta 0:00:01\n",
      "     -------------------------------------- 250.0/250.0 kB 1.5 MB/s eta 0:00:00\n",
      "Collecting et-xmlfile (from openpyxl)\n",
      "  Downloading et_xmlfile-1.1.0-py3-none-any.whl (4.7 kB)\n",
      "Installing collected packages: et-xmlfile, openpyxl\n",
      "Successfully installed et-xmlfile-1.1.0 openpyxl-3.1.2\n"
     ]
    }
   ],
   "source": [
    "!pip install openpyxl"
   ]
  },
  {
   "cell_type": "code",
   "execution_count": 4,
   "metadata": {},
   "outputs": [],
   "source": [
    "import pandas as pd\n",
    "import numpy as np\n",
    "import openpyxl as xl"
   ]
  },
  {
   "cell_type": "code",
   "execution_count": 5,
   "metadata": {},
   "outputs": [],
   "source": [
    "elteams=pd.read_csv(\"datasets/actual.csv\")\n",
    "ecteams=pd.read_excel(\"datasets/ec2023.xlsx\", index_col=False)"
   ]
  },
  {
   "cell_type": "markdown",
   "metadata": {},
   "source": [
    "Let's analyze the EuroCup Dataframe! Is there any cleaning needed? Remember the basics: \n",
    "- Drop Null Values\n",
    "- Drop Duplicate Rows\n",
    "- Drop Strange Columns if you see any"
   ]
  },
  {
   "cell_type": "markdown",
   "metadata": {},
   "source": []
  },
  {
   "cell_type": "code",
   "execution_count": 8,
   "metadata": {},
   "outputs": [
    {
     "data": {
      "text/plain": [
       "Index(['Unnamed: 0', 'fecha', 'ronda', 'local', 'visitante', 'localscore',\n",
       "       'roadscore', 'Winner', 'Ganador', 'plusminus'],\n",
       "      dtype='object')"
      ]
     },
     "execution_count": 8,
     "metadata": {},
     "output_type": "execute_result"
    }
   ],
   "source": [
    "ecteams.columns"
   ]
  },
  {
   "cell_type": "code",
   "execution_count": null,
   "metadata": {},
   "outputs": [],
   "source": [
    "#He limpiado directamente el DataFrame usando el inplace=True, no sé si en este caso era mejor guardar los\n",
    "#cambios en otro dataframe"
   ]
  },
  {
   "cell_type": "code",
   "execution_count": 17,
   "metadata": {},
   "outputs": [],
   "source": [
    "ecteams.dropna(inplace=True)"
   ]
  },
  {
   "cell_type": "code",
   "execution_count": 18,
   "metadata": {},
   "outputs": [],
   "source": [
    "ecteams.drop_duplicates(inplace=True)"
   ]
  },
  {
   "cell_type": "code",
   "execution_count": 15,
   "metadata": {},
   "outputs": [],
   "source": [
    "ecteams.drop(\"Unnamed: 0\", axis=1, inplace=True)"
   ]
  },
  {
   "cell_type": "markdown",
   "metadata": {},
   "source": [
    "Let's now compare it with the EL dataset that we have: You might select a sample of both of them and see what are the inconsistencies!"
   ]
  },
  {
   "cell_type": "code",
   "execution_count": 19,
   "metadata": {},
   "outputs": [
    {
     "data": {
      "text/html": [
       "<div>\n",
       "<style scoped>\n",
       "    .dataframe tbody tr th:only-of-type {\n",
       "        vertical-align: middle;\n",
       "    }\n",
       "\n",
       "    .dataframe tbody tr th {\n",
       "        vertical-align: top;\n",
       "    }\n",
       "\n",
       "    .dataframe thead th {\n",
       "        text-align: right;\n",
       "    }\n",
       "</style>\n",
       "<table border=\"1\" class=\"dataframe\">\n",
       "  <thead>\n",
       "    <tr style=\"text-align: right;\">\n",
       "      <th></th>\n",
       "      <th>fecha</th>\n",
       "      <th>ronda</th>\n",
       "      <th>local</th>\n",
       "      <th>visitante</th>\n",
       "      <th>localscore</th>\n",
       "      <th>roadscore</th>\n",
       "      <th>Winner</th>\n",
       "      <th>Ganador</th>\n",
       "      <th>plusminus</th>\n",
       "    </tr>\n",
       "  </thead>\n",
       "  <tbody>\n",
       "    <tr>\n",
       "      <th>19</th>\n",
       "      <td>2024-01-23T18:00:00</td>\n",
       "      <td>16</td>\n",
       "      <td>U-BT Cluj-Napoca</td>\n",
       "      <td>Dolomiti Energia Trento</td>\n",
       "      <td>88</td>\n",
       "      <td>83.0</td>\n",
       "      <td>Local</td>\n",
       "      <td>88.0</td>\n",
       "      <td>5.0</td>\n",
       "    </tr>\n",
       "  </tbody>\n",
       "</table>\n",
       "</div>"
      ],
      "text/plain": [
       "                  fecha  ronda             local                visitante  \\\n",
       "19  2024-01-23T18:00:00     16  U-BT Cluj-Napoca  Dolomiti Energia Trento   \n",
       "\n",
       "    localscore  roadscore Winner  Ganador  plusminus  \n",
       "19          88       83.0  Local     88.0        5.0  "
      ]
     },
     "execution_count": 19,
     "metadata": {},
     "output_type": "execute_result"
    }
   ],
   "source": [
    "#Your sample ecteams code here: \n",
    "ecteams.sample()"
   ]
  },
  {
   "cell_type": "code",
   "execution_count": 20,
   "metadata": {},
   "outputs": [
    {
     "data": {
      "text/html": [
       "<div>\n",
       "<style scoped>\n",
       "    .dataframe tbody tr th:only-of-type {\n",
       "        vertical-align: middle;\n",
       "    }\n",
       "\n",
       "    .dataframe tbody tr th {\n",
       "        vertical-align: top;\n",
       "    }\n",
       "\n",
       "    .dataframe thead th {\n",
       "        text-align: right;\n",
       "    }\n",
       "</style>\n",
       "<table border=\"1\" class=\"dataframe\">\n",
       "  <thead>\n",
       "    <tr style=\"text-align: right;\">\n",
       "      <th></th>\n",
       "      <th>Competition</th>\n",
       "      <th>Phase</th>\n",
       "      <th>Ronda</th>\n",
       "      <th>Dia</th>\n",
       "      <th>Hora</th>\n",
       "      <th>Local</th>\n",
       "      <th>Visitante</th>\n",
       "      <th>Localscore</th>\n",
       "      <th>Roadscore</th>\n",
       "      <th>Arbitros</th>\n",
       "      <th>Plusminus</th>\n",
       "      <th>Winner</th>\n",
       "      <th>Ganador</th>\n",
       "    </tr>\n",
       "  </thead>\n",
       "  <tbody>\n",
       "    <tr>\n",
       "      <th>75</th>\n",
       "      <td>Euroleague</td>\n",
       "      <td>Regular Season</td>\n",
       "      <td>9</td>\n",
       "      <td>2023-11-16</td>\n",
       "      <td>20:45:00</td>\n",
       "      <td>Real Madrid</td>\n",
       "      <td>AS Monaco</td>\n",
       "      <td>91</td>\n",
       "      <td>73</td>\n",
       "      <td>['JAVOR, DAMIR', 'SILVA, SERGIO', 'TSAROUCHA, ...</td>\n",
       "      <td>18</td>\n",
       "      <td>Real Madrid</td>\n",
       "      <td>Local</td>\n",
       "    </tr>\n",
       "  </tbody>\n",
       "</table>\n",
       "</div>"
      ],
      "text/plain": [
       "   Competition           Phase  Ronda         Dia      Hora        Local  \\\n",
       "75  Euroleague  Regular Season      9  2023-11-16  20:45:00  Real Madrid   \n",
       "\n",
       "    Visitante  Localscore  Roadscore  \\\n",
       "75  AS Monaco          91         73   \n",
       "\n",
       "                                             Arbitros  Plusminus       Winner  \\\n",
       "75  ['JAVOR, DAMIR', 'SILVA, SERGIO', 'TSAROUCHA, ...         18  Real Madrid   \n",
       "\n",
       "   Ganador  \n",
       "75   Local  "
      ]
     },
     "execution_count": 20,
     "metadata": {},
     "output_type": "execute_result"
    }
   ],
   "source": [
    "#Your sample elteams code here: \n",
    "elteams.sample()"
   ]
  },
  {
   "cell_type": "markdown",
   "metadata": {},
   "source": [
    "What are the inconsistencies that you are seeing? Write them down!\n",
    "\n",
    "- En el df de ecteams la columna \"plusminus\" son floats\n",
    "- En ecteams no hay columnas de Competition/Phase\n",
    "- En ecteams la columna \"fecha\" contiene fecha y hora (en el df elteams lo separamos en dos columnas)\n",
    "- En ecteams no aparecen los arbitros\n",
    "- Winner y Ganador son diferentes\n",
    "- Nombres con mayusculas\n",
    "\n",
    "<details>\n",
    "    <summary> Expand the box to see the inconsistencies </summary>\n",
    "\n",
    "- The columns are named in lowercase and the columns in Euroleague are capitalized\n",
    "- There are some missing columns (f.e. Arbitros)\n",
    "- Fecha is not split in Dia and Hora\n",
    "- `Winner and Ganador Columns show different data` are not the same! Be extremely careful about it\n",
    "\n",
    "</details>"
   ]
  },
  {
   "cell_type": "markdown",
   "metadata": {},
   "source": [
    "As you can see there are a lot of different inconsistencies right? \n",
    "But beofore starting cleaning like crazy people, let's take a second to know what do we want to compare: \n",
    "\n",
    "- The CLUBS are impossible to compare, as different competitions defines different clubs\n",
    "- Both rounds (Eurocup has less rounds) and Dates (Different Dates) are also not really useful\n",
    "- We don't have information about Arbitros\n",
    "\n",
    "## Conclusion\n",
    "\n",
    "### We must take into consideration what data we DO have in both dataframes to compare it propperly and don't use time cleaning unnecessary things. \n",
    "\n",
    "In this particular case, we will need to compare: \n"
   ]
  },
  {
   "cell_type": "markdown",
   "metadata": {},
   "source": [
    "`Competition`: The main column that define one from another. \n",
    "\n",
    "Create the Competition column in the EuroCup dataframe, being the fixed value \"Eurocup\""
   ]
  },
  {
   "cell_type": "code",
   "execution_count": 21,
   "metadata": {},
   "outputs": [
    {
     "data": {
      "text/html": [
       "<div>\n",
       "<style scoped>\n",
       "    .dataframe tbody tr th:only-of-type {\n",
       "        vertical-align: middle;\n",
       "    }\n",
       "\n",
       "    .dataframe tbody tr th {\n",
       "        vertical-align: top;\n",
       "    }\n",
       "\n",
       "    .dataframe thead th {\n",
       "        text-align: right;\n",
       "    }\n",
       "</style>\n",
       "<table border=\"1\" class=\"dataframe\">\n",
       "  <thead>\n",
       "    <tr style=\"text-align: right;\">\n",
       "      <th></th>\n",
       "      <th>fecha</th>\n",
       "      <th>ronda</th>\n",
       "      <th>local</th>\n",
       "      <th>visitante</th>\n",
       "      <th>localscore</th>\n",
       "      <th>roadscore</th>\n",
       "      <th>Winner</th>\n",
       "      <th>Ganador</th>\n",
       "      <th>plusminus</th>\n",
       "      <th>Competition</th>\n",
       "    </tr>\n",
       "  </thead>\n",
       "  <tbody>\n",
       "    <tr>\n",
       "      <th>60</th>\n",
       "      <td>2023-12-19T18:00:00</td>\n",
       "      <td>12</td>\n",
       "      <td>U-BT Cluj-Napoca</td>\n",
       "      <td>Mincidelice JL Bourg en Bresse</td>\n",
       "      <td>89</td>\n",
       "      <td>98.0</td>\n",
       "      <td>Visitante</td>\n",
       "      <td>98.0</td>\n",
       "      <td>-9.0</td>\n",
       "      <td>Eurocup</td>\n",
       "    </tr>\n",
       "  </tbody>\n",
       "</table>\n",
       "</div>"
      ],
      "text/plain": [
       "                  fecha  ronda             local  \\\n",
       "60  2023-12-19T18:00:00     12  U-BT Cluj-Napoca   \n",
       "\n",
       "                         visitante  localscore  roadscore     Winner  Ganador  \\\n",
       "60  Mincidelice JL Bourg en Bresse          89       98.0  Visitante     98.0   \n",
       "\n",
       "    plusminus Competition  \n",
       "60       -9.0     Eurocup  "
      ]
     },
     "execution_count": 21,
     "metadata": {},
     "output_type": "execute_result"
    }
   ],
   "source": [
    "#Your Code here: \n",
    "ecteams[\"Competition\"]=\"Eurocup\"\n",
    "ecteams.sample()"
   ]
  },
  {
   "cell_type": "markdown",
   "metadata": {},
   "source": [
    "`Ganador`: Being the actual values \"Local\" or \"Visitante\"\n",
    "\n",
    "**BE CAREFUL**: Before changing the correct column to \"Ganador\" from the EC dataframe, there is a \"Ganador\" column with the incorrect information: STEP BY STEP!"
   ]
  },
  {
   "cell_type": "code",
   "execution_count": 22,
   "metadata": {},
   "outputs": [
    {
     "data": {
      "text/html": [
       "<div>\n",
       "<style scoped>\n",
       "    .dataframe tbody tr th:only-of-type {\n",
       "        vertical-align: middle;\n",
       "    }\n",
       "\n",
       "    .dataframe tbody tr th {\n",
       "        vertical-align: top;\n",
       "    }\n",
       "\n",
       "    .dataframe thead th {\n",
       "        text-align: right;\n",
       "    }\n",
       "</style>\n",
       "<table border=\"1\" class=\"dataframe\">\n",
       "  <thead>\n",
       "    <tr style=\"text-align: right;\">\n",
       "      <th></th>\n",
       "      <th>fecha</th>\n",
       "      <th>ronda</th>\n",
       "      <th>local</th>\n",
       "      <th>visitante</th>\n",
       "      <th>localscore</th>\n",
       "      <th>roadscore</th>\n",
       "      <th>Winner</th>\n",
       "      <th>plusminus</th>\n",
       "      <th>Competition</th>\n",
       "    </tr>\n",
       "  </thead>\n",
       "  <tbody>\n",
       "    <tr>\n",
       "      <th>77</th>\n",
       "      <td>2023-12-05T20:00:00</td>\n",
       "      <td>10</td>\n",
       "      <td>Slask Wroclaw</td>\n",
       "      <td>Mincidelice JL Bourg en Bresse</td>\n",
       "      <td>63</td>\n",
       "      <td>72.0</td>\n",
       "      <td>Visitante</td>\n",
       "      <td>-9.0</td>\n",
       "      <td>Eurocup</td>\n",
       "    </tr>\n",
       "  </tbody>\n",
       "</table>\n",
       "</div>"
      ],
      "text/plain": [
       "                  fecha  ronda          local                       visitante  \\\n",
       "77  2023-12-05T20:00:00     10  Slask Wroclaw  Mincidelice JL Bourg en Bresse   \n",
       "\n",
       "    localscore  roadscore     Winner  plusminus Competition  \n",
       "77          63       72.0  Visitante       -9.0     Eurocup  "
      ]
     },
     "execution_count": 22,
     "metadata": {},
     "output_type": "execute_result"
    }
   ],
   "source": [
    "#Drop the Column Ganador from the Eurocup Dataframe\n",
    "ecteams.drop(\"Ganador\", axis=1, inplace=True)\n",
    "ecteams.sample()"
   ]
  },
  {
   "cell_type": "code",
   "execution_count": 24,
   "metadata": {},
   "outputs": [
    {
     "data": {
      "text/html": [
       "<div>\n",
       "<style scoped>\n",
       "    .dataframe tbody tr th:only-of-type {\n",
       "        vertical-align: middle;\n",
       "    }\n",
       "\n",
       "    .dataframe tbody tr th {\n",
       "        vertical-align: top;\n",
       "    }\n",
       "\n",
       "    .dataframe thead th {\n",
       "        text-align: right;\n",
       "    }\n",
       "</style>\n",
       "<table border=\"1\" class=\"dataframe\">\n",
       "  <thead>\n",
       "    <tr style=\"text-align: right;\">\n",
       "      <th></th>\n",
       "      <th>fecha</th>\n",
       "      <th>ronda</th>\n",
       "      <th>local</th>\n",
       "      <th>visitante</th>\n",
       "      <th>localscore</th>\n",
       "      <th>roadscore</th>\n",
       "      <th>Ganador</th>\n",
       "      <th>plusminus</th>\n",
       "      <th>Competition</th>\n",
       "    </tr>\n",
       "  </thead>\n",
       "  <tbody>\n",
       "    <tr>\n",
       "      <th>103</th>\n",
       "      <td>2023-11-15T21:00:00</td>\n",
       "      <td>7</td>\n",
       "      <td>Dreamland Gran Canaria</td>\n",
       "      <td>Slask Wroclaw</td>\n",
       "      <td>81</td>\n",
       "      <td>77.0</td>\n",
       "      <td>Local</td>\n",
       "      <td>4.0</td>\n",
       "      <td>Eurocup</td>\n",
       "    </tr>\n",
       "  </tbody>\n",
       "</table>\n",
       "</div>"
      ],
      "text/plain": [
       "                   fecha  ronda                   local      visitante  \\\n",
       "103  2023-11-15T21:00:00      7  Dreamland Gran Canaria  Slask Wroclaw   \n",
       "\n",
       "     localscore  roadscore Ganador  plusminus Competition  \n",
       "103          81       77.0   Local        4.0     Eurocup  "
      ]
     },
     "execution_count": 24,
     "metadata": {},
     "output_type": "execute_result"
    }
   ],
   "source": [
    "#Rename the column with the actual information to \"Ganador\"\n",
    "ecteams.rename(columns={\"Winner\":\"Ganador\"}, inplace=True)\n",
    "ecteams.sample()"
   ]
  },
  {
   "cell_type": "markdown",
   "metadata": {},
   "source": [
    "As seen in the first look at the dataframes, there was a problem with the columns: Are lower when they should be Capitalized, as in the Euroleague DataFrame. Change the column names to capitalize. \n",
    "\n",
    "is there a quick way to do it?"
   ]
  },
  {
   "cell_type": "code",
   "execution_count": 26,
   "metadata": {},
   "outputs": [
    {
     "data": {
      "text/html": [
       "<div>\n",
       "<style scoped>\n",
       "    .dataframe tbody tr th:only-of-type {\n",
       "        vertical-align: middle;\n",
       "    }\n",
       "\n",
       "    .dataframe tbody tr th {\n",
       "        vertical-align: top;\n",
       "    }\n",
       "\n",
       "    .dataframe thead th {\n",
       "        text-align: right;\n",
       "    }\n",
       "</style>\n",
       "<table border=\"1\" class=\"dataframe\">\n",
       "  <thead>\n",
       "    <tr style=\"text-align: right;\">\n",
       "      <th></th>\n",
       "      <th>fecha</th>\n",
       "      <th>ronda</th>\n",
       "      <th>local</th>\n",
       "      <th>visitante</th>\n",
       "      <th>localscore</th>\n",
       "      <th>roadscore</th>\n",
       "      <th>ganador</th>\n",
       "      <th>plusminus</th>\n",
       "      <th>competition</th>\n",
       "    </tr>\n",
       "  </thead>\n",
       "  <tbody>\n",
       "    <tr>\n",
       "      <th>151</th>\n",
       "      <td>2023-10-17T19:30:00</td>\n",
       "      <td>3</td>\n",
       "      <td>ratiopharm Ulm</td>\n",
       "      <td>7bet-Lietkabelis Panevezys</td>\n",
       "      <td>99</td>\n",
       "      <td>74.0</td>\n",
       "      <td>Local</td>\n",
       "      <td>25.0</td>\n",
       "      <td>Eurocup</td>\n",
       "    </tr>\n",
       "  </tbody>\n",
       "</table>\n",
       "</div>"
      ],
      "text/plain": [
       "                   fecha  ronda           local                   visitante  \\\n",
       "151  2023-10-17T19:30:00      3  ratiopharm Ulm  7bet-Lietkabelis Panevezys   \n",
       "\n",
       "     localscore  roadscore ganador  plusminus competition  \n",
       "151          99       74.0   Local       25.0     Eurocup  "
      ]
     },
     "execution_count": 26,
     "metadata": {},
     "output_type": "execute_result"
    }
   ],
   "source": [
    "# Your code here: \n",
    "ecteams.columns = [i.lower() for i in ecteams.columns]\n",
    "ecteams.sample()"
   ]
  },
  {
   "cell_type": "markdown",
   "metadata": {},
   "source": [
    "Now it is time to just take the useful columns from each data! We will call the result subsets `comp_el` and `comp_ec`\n",
    "\n",
    "REMEMBER: Use the same order of the columns for each dataset. \n",
    "\n",
    "Recommended order: Competition, Localscore, Roadscore, Plusminus, Ganador. **Nothing else is useful**"
   ]
  },
  {
   "cell_type": "code",
   "execution_count": 28,
   "metadata": {},
   "outputs": [],
   "source": [
    "elteams.columns = [i.lower() for i in elteams.columns]"
   ]
  },
  {
   "cell_type": "code",
   "execution_count": 34,
   "metadata": {},
   "outputs": [],
   "source": [
    "# Your code here: competition, localscore, roadscore, plusminus, ganador\n",
    "comp_ec = ecteams.loc[:, [\"competition\", \"localscore\", \"roadscore\", \"plusminus\", \"ganador\"]]\n",
    "comp_el = elteams.loc[:, [\"competition\", \"localscore\", \"roadscore\", \"plusminus\", \"ganador\"]]"
   ]
  },
  {
   "cell_type": "code",
   "execution_count": 35,
   "metadata": {},
   "outputs": [
    {
     "data": {
      "text/html": [
       "<div>\n",
       "<style scoped>\n",
       "    .dataframe tbody tr th:only-of-type {\n",
       "        vertical-align: middle;\n",
       "    }\n",
       "\n",
       "    .dataframe tbody tr th {\n",
       "        vertical-align: top;\n",
       "    }\n",
       "\n",
       "    .dataframe thead th {\n",
       "        text-align: right;\n",
       "    }\n",
       "</style>\n",
       "<table border=\"1\" class=\"dataframe\">\n",
       "  <thead>\n",
       "    <tr style=\"text-align: right;\">\n",
       "      <th></th>\n",
       "      <th>competition</th>\n",
       "      <th>localscore</th>\n",
       "      <th>roadscore</th>\n",
       "      <th>plusminus</th>\n",
       "      <th>ganador</th>\n",
       "    </tr>\n",
       "  </thead>\n",
       "  <tbody>\n",
       "    <tr>\n",
       "      <th>156</th>\n",
       "      <td>Eurocup</td>\n",
       "      <td>75</td>\n",
       "      <td>81.0</td>\n",
       "      <td>-6.0</td>\n",
       "      <td>Visitante</td>\n",
       "    </tr>\n",
       "  </tbody>\n",
       "</table>\n",
       "</div>"
      ],
      "text/plain": [
       "    competition  localscore  roadscore  plusminus    ganador\n",
       "156     Eurocup          75       81.0       -6.0  Visitante"
      ]
     },
     "execution_count": 35,
     "metadata": {},
     "output_type": "execute_result"
    }
   ],
   "source": [
    "comp_ec.sample()"
   ]
  },
  {
   "cell_type": "code",
   "execution_count": 36,
   "metadata": {},
   "outputs": [
    {
     "data": {
      "text/html": [
       "<div>\n",
       "<style scoped>\n",
       "    .dataframe tbody tr th:only-of-type {\n",
       "        vertical-align: middle;\n",
       "    }\n",
       "\n",
       "    .dataframe tbody tr th {\n",
       "        vertical-align: top;\n",
       "    }\n",
       "\n",
       "    .dataframe thead th {\n",
       "        text-align: right;\n",
       "    }\n",
       "</style>\n",
       "<table border=\"1\" class=\"dataframe\">\n",
       "  <thead>\n",
       "    <tr style=\"text-align: right;\">\n",
       "      <th></th>\n",
       "      <th>competition</th>\n",
       "      <th>localscore</th>\n",
       "      <th>roadscore</th>\n",
       "      <th>plusminus</th>\n",
       "      <th>ganador</th>\n",
       "    </tr>\n",
       "  </thead>\n",
       "  <tbody>\n",
       "    <tr>\n",
       "      <th>6</th>\n",
       "      <td>Euroleague</td>\n",
       "      <td>78</td>\n",
       "      <td>88</td>\n",
       "      <td>-10</td>\n",
       "      <td>Visitante</td>\n",
       "    </tr>\n",
       "  </tbody>\n",
       "</table>\n",
       "</div>"
      ],
      "text/plain": [
       "  competition  localscore  roadscore  plusminus    ganador\n",
       "6  Euroleague          78         88        -10  Visitante"
      ]
     },
     "execution_count": 36,
     "metadata": {},
     "output_type": "execute_result"
    }
   ],
   "source": [
    "comp_el.sample()"
   ]
  },
  {
   "cell_type": "markdown",
   "metadata": {},
   "source": [
    "Time to concatenate them both! Create a concat of both Dfs, called `competition`"
   ]
  },
  {
   "cell_type": "code",
   "execution_count": 41,
   "metadata": {},
   "outputs": [
    {
     "data": {
      "text/html": [
       "<div>\n",
       "<style scoped>\n",
       "    .dataframe tbody tr th:only-of-type {\n",
       "        vertical-align: middle;\n",
       "    }\n",
       "\n",
       "    .dataframe tbody tr th {\n",
       "        vertical-align: top;\n",
       "    }\n",
       "\n",
       "    .dataframe thead th {\n",
       "        text-align: right;\n",
       "    }\n",
       "</style>\n",
       "<table border=\"1\" class=\"dataframe\">\n",
       "  <thead>\n",
       "    <tr style=\"text-align: right;\">\n",
       "      <th></th>\n",
       "      <th>competition</th>\n",
       "      <th>localscore</th>\n",
       "      <th>roadscore</th>\n",
       "      <th>plusminus</th>\n",
       "      <th>ganador</th>\n",
       "    </tr>\n",
       "  </thead>\n",
       "  <tbody>\n",
       "    <tr>\n",
       "      <th>0</th>\n",
       "      <td>Eurocup</td>\n",
       "      <td>111</td>\n",
       "      <td>113.0</td>\n",
       "      <td>-2.0</td>\n",
       "      <td>Visitante</td>\n",
       "    </tr>\n",
       "    <tr>\n",
       "      <th>1</th>\n",
       "      <td>Eurocup</td>\n",
       "      <td>78</td>\n",
       "      <td>97.0</td>\n",
       "      <td>-19.0</td>\n",
       "      <td>Visitante</td>\n",
       "    </tr>\n",
       "    <tr>\n",
       "      <th>2</th>\n",
       "      <td>Eurocup</td>\n",
       "      <td>66</td>\n",
       "      <td>86.0</td>\n",
       "      <td>-20.0</td>\n",
       "      <td>Visitante</td>\n",
       "    </tr>\n",
       "    <tr>\n",
       "      <th>3</th>\n",
       "      <td>Eurocup</td>\n",
       "      <td>85</td>\n",
       "      <td>92.0</td>\n",
       "      <td>-7.0</td>\n",
       "      <td>Visitante</td>\n",
       "    </tr>\n",
       "    <tr>\n",
       "      <th>4</th>\n",
       "      <td>Eurocup</td>\n",
       "      <td>64</td>\n",
       "      <td>68.0</td>\n",
       "      <td>-4.0</td>\n",
       "      <td>Visitante</td>\n",
       "    </tr>\n",
       "    <tr>\n",
       "      <th>...</th>\n",
       "      <td>...</td>\n",
       "      <td>...</td>\n",
       "      <td>...</td>\n",
       "      <td>...</td>\n",
       "      <td>...</td>\n",
       "    </tr>\n",
       "    <tr>\n",
       "      <th>220</th>\n",
       "      <td>Euroleague</td>\n",
       "      <td>79</td>\n",
       "      <td>73.0</td>\n",
       "      <td>6.0</td>\n",
       "      <td>Local</td>\n",
       "    </tr>\n",
       "    <tr>\n",
       "      <th>221</th>\n",
       "      <td>Euroleague</td>\n",
       "      <td>80</td>\n",
       "      <td>68.0</td>\n",
       "      <td>12.0</td>\n",
       "      <td>Local</td>\n",
       "    </tr>\n",
       "    <tr>\n",
       "      <th>222</th>\n",
       "      <td>Euroleague</td>\n",
       "      <td>76</td>\n",
       "      <td>85.0</td>\n",
       "      <td>-9.0</td>\n",
       "      <td>Visitante</td>\n",
       "    </tr>\n",
       "    <tr>\n",
       "      <th>223</th>\n",
       "      <td>Euroleague</td>\n",
       "      <td>88</td>\n",
       "      <td>84.0</td>\n",
       "      <td>4.0</td>\n",
       "      <td>Local</td>\n",
       "    </tr>\n",
       "    <tr>\n",
       "      <th>224</th>\n",
       "      <td>Euroleague</td>\n",
       "      <td>76</td>\n",
       "      <td>69.0</td>\n",
       "      <td>7.0</td>\n",
       "      <td>Local</td>\n",
       "    </tr>\n",
       "  </tbody>\n",
       "</table>\n",
       "<p>395 rows × 5 columns</p>\n",
       "</div>"
      ],
      "text/plain": [
       "    competition  localscore  roadscore  plusminus    ganador\n",
       "0       Eurocup         111      113.0       -2.0  Visitante\n",
       "1       Eurocup          78       97.0      -19.0  Visitante\n",
       "2       Eurocup          66       86.0      -20.0  Visitante\n",
       "3       Eurocup          85       92.0       -7.0  Visitante\n",
       "4       Eurocup          64       68.0       -4.0  Visitante\n",
       "..          ...         ...        ...        ...        ...\n",
       "220  Euroleague          79       73.0        6.0      Local\n",
       "221  Euroleague          80       68.0       12.0      Local\n",
       "222  Euroleague          76       85.0       -9.0  Visitante\n",
       "223  Euroleague          88       84.0        4.0      Local\n",
       "224  Euroleague          76       69.0        7.0      Local\n",
       "\n",
       "[395 rows x 5 columns]"
      ]
     },
     "execution_count": 41,
     "metadata": {},
     "output_type": "execute_result"
    }
   ],
   "source": [
    "# Your code here: \n",
    "competition = pd.concat([comp_ec,comp_el])\n",
    "competition"
   ]
  },
  {
   "cell_type": "markdown",
   "metadata": {},
   "source": [
    "## Well done!\n",
    "\n",
    "Now we have the combination of both competitions in the same dataframe. Is time for the questions you must answer: "
   ]
  },
  {
   "cell_type": "markdown",
   "metadata": {},
   "source": [
    "1. How many matches have been in each competition?\n",
    "2. What are the maximum points that a local team has scored per competition? And the road team as well. \n",
    "3. Do the same operations with the average points (per competition)\n",
    "4. Can you tell me the maximum difference that has been in a match, splitted by competition? \n",
    "    - Careful: The Plusminus is both positive and negative, being negative that the Road Team has achieved the Victory. To have the absolute, create a new Column named Absolut_Plusminus. Remember: np.where is life!\n",
    "5. Also grouped by competition, give me the number of victories of the Locals and the Visitors"
   ]
  },
  {
   "cell_type": "code",
   "execution_count": 43,
   "metadata": {},
   "outputs": [
    {
     "data": {
      "text/plain": [
       "competition\n",
       "Euroleague    225\n",
       "Eurocup       170\n",
       "Name: count, dtype: int64"
      ]
     },
     "execution_count": 43,
     "metadata": {},
     "output_type": "execute_result"
    }
   ],
   "source": [
    "# 1\n",
    "competition.competition.value_counts()"
   ]
  },
  {
   "cell_type": "code",
   "execution_count": 48,
   "metadata": {},
   "outputs": [
    {
     "data": {
      "text/html": [
       "<div>\n",
       "<style scoped>\n",
       "    .dataframe tbody tr th:only-of-type {\n",
       "        vertical-align: middle;\n",
       "    }\n",
       "\n",
       "    .dataframe tbody tr th {\n",
       "        vertical-align: top;\n",
       "    }\n",
       "\n",
       "    .dataframe thead th {\n",
       "        text-align: right;\n",
       "    }\n",
       "</style>\n",
       "<table border=\"1\" class=\"dataframe\">\n",
       "  <thead>\n",
       "    <tr style=\"text-align: right;\">\n",
       "      <th></th>\n",
       "      <th>localscore</th>\n",
       "      <th>roadscore</th>\n",
       "    </tr>\n",
       "    <tr>\n",
       "      <th>competition</th>\n",
       "      <th></th>\n",
       "      <th></th>\n",
       "    </tr>\n",
       "  </thead>\n",
       "  <tbody>\n",
       "    <tr>\n",
       "      <th>Eurocup</th>\n",
       "      <td>120</td>\n",
       "      <td>114.0</td>\n",
       "    </tr>\n",
       "    <tr>\n",
       "      <th>Euroleague</th>\n",
       "      <td>130</td>\n",
       "      <td>126.0</td>\n",
       "    </tr>\n",
       "  </tbody>\n",
       "</table>\n",
       "</div>"
      ],
      "text/plain": [
       "             localscore  roadscore\n",
       "competition                       \n",
       "Eurocup             120      114.0\n",
       "Euroleague          130      126.0"
      ]
     },
     "execution_count": 48,
     "metadata": {},
     "output_type": "execute_result"
    }
   ],
   "source": [
    "# 2\n",
    "competition.groupby(\"competition\").agg({\"localscore\":\"max\",\"roadscore\":\"max\"})\n"
   ]
  },
  {
   "cell_type": "code",
   "execution_count": 49,
   "metadata": {},
   "outputs": [
    {
     "data": {
      "text/html": [
       "<div>\n",
       "<style scoped>\n",
       "    .dataframe tbody tr th:only-of-type {\n",
       "        vertical-align: middle;\n",
       "    }\n",
       "\n",
       "    .dataframe tbody tr th {\n",
       "        vertical-align: top;\n",
       "    }\n",
       "\n",
       "    .dataframe thead th {\n",
       "        text-align: right;\n",
       "    }\n",
       "</style>\n",
       "<table border=\"1\" class=\"dataframe\">\n",
       "  <thead>\n",
       "    <tr style=\"text-align: right;\">\n",
       "      <th></th>\n",
       "      <th>localscore</th>\n",
       "      <th>roadscore</th>\n",
       "    </tr>\n",
       "    <tr>\n",
       "      <th>competition</th>\n",
       "      <th></th>\n",
       "      <th></th>\n",
       "    </tr>\n",
       "  </thead>\n",
       "  <tbody>\n",
       "    <tr>\n",
       "      <th>Eurocup</th>\n",
       "      <td>85.235294</td>\n",
       "      <td>83.958824</td>\n",
       "    </tr>\n",
       "    <tr>\n",
       "      <th>Euroleague</th>\n",
       "      <td>83.284444</td>\n",
       "      <td>79.173333</td>\n",
       "    </tr>\n",
       "  </tbody>\n",
       "</table>\n",
       "</div>"
      ],
      "text/plain": [
       "             localscore  roadscore\n",
       "competition                       \n",
       "Eurocup       85.235294  83.958824\n",
       "Euroleague    83.284444  79.173333"
      ]
     },
     "execution_count": 49,
     "metadata": {},
     "output_type": "execute_result"
    }
   ],
   "source": [
    "# 3\n",
    "competition.groupby(\"competition\").agg({\"localscore\":\"mean\",\"roadscore\":\"mean\"})\n"
   ]
  },
  {
   "cell_type": "code",
   "execution_count": 53,
   "metadata": {},
   "outputs": [],
   "source": [
    "# 4\n",
    "competition['absolut_plusminus'] = np.abs(competition['plusminus'])\n",
    "#creo una nueva columna con el cálculo del absolut plusminus\n"
   ]
  },
  {
   "cell_type": "code",
   "execution_count": 54,
   "metadata": {},
   "outputs": [
    {
     "name": "stdout",
     "output_type": "stream",
     "text": [
      "competition\n",
      "Eurocup       39.0\n",
      "Euroleague    39.0\n",
      "Name: absolut_plusminus, dtype: float64\n"
     ]
    }
   ],
   "source": [
    "max_diff_competition = competition.groupby('competition')['absolut_plusminus'].max()\n",
    "print(max_diff_competition)"
   ]
  },
  {
   "cell_type": "code",
   "execution_count": 56,
   "metadata": {},
   "outputs": [],
   "source": [
    "# 5\n",
    "wins_competition = competition.groupby(['competition', 'ganador']).size()\n"
   ]
  },
  {
   "cell_type": "code",
   "execution_count": 57,
   "metadata": {},
   "outputs": [
    {
     "name": "stdout",
     "output_type": "stream",
     "text": [
      "competition  ganador  \n",
      "Eurocup      Local         90\n",
      "             Visitante     80\n",
      "Euroleague   Local        150\n",
      "             Visitante     75\n",
      "dtype: int64\n"
     ]
    }
   ],
   "source": [
    "print(wins_competition)"
   ]
  }
 ],
 "metadata": {
  "kernelspec": {
   "display_name": "ironhackk",
   "language": "python",
   "name": "python3"
  },
  "language_info": {
   "codemirror_mode": {
    "name": "ipython",
    "version": 3
   },
   "file_extension": ".py",
   "mimetype": "text/x-python",
   "name": "python",
   "nbconvert_exporter": "python",
   "pygments_lexer": "ipython3",
   "version": "3.11.7"
  }
 },
 "nbformat": 4,
 "nbformat_minor": 2
}
