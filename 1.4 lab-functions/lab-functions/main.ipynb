{
 "cells": [
  {
   "cell_type": "markdown",
   "metadata": {},
   "source": [
    "# Functions"
   ]
  },
  {
   "cell_type": "markdown",
   "metadata": {},
   "source": [
    "On this lab we will put to practice some of the concepts we have learned on this past few days.\n",
    "\n",
    "`NOTE: On this lab you should try to write all the functions yourself using only the most basic of python syntax and without functions such as len, count, sum, max, min, in, etc. Give it a try. 🧑🏻‍💻👩🏻‍💻`\n",
    "\n",
    "The cell after each exercise contains a few tests to check if your function works as expected."
   ]
  },
  {
   "cell_type": "code",
   "execution_count": 4,
   "metadata": {},
   "outputs": [],
   "source": [
    "from mod.testing import *\n",
    "import unittest"
   ]
  },
  {
   "cell_type": "markdown",
   "metadata": {},
   "source": [
    "## 1. Write a function that returns the greater of two numbers"
   ]
  },
  {
   "cell_type": "code",
   "execution_count": 2,
   "metadata": {},
   "outputs": [],
   "source": [
    "def greater (a, b):\n",
    "    if a > b:\n",
    "        return a\n",
    "    if b > a:\n",
    "        return b"
   ]
  },
  {
   "cell_type": "code",
   "execution_count": 3,
   "metadata": {},
   "outputs": [
    {
     "name": "stderr",
     "output_type": "stream",
     "text": [
      "....................................................................................................\n",
      "----------------------------------------------------------------------\n",
      "Ran 100 tests in 0.136s\n",
      "\n",
      "OK\n"
     ]
    }
   ],
   "source": [
    "# This will test your function \n",
    "test_greater(greater)"
   ]
  },
  {
   "cell_type": "markdown",
   "metadata": {},
   "source": [
    "## 2. Now write a function that returns the largest element on a list"
   ]
  },
  {
   "cell_type": "code",
   "execution_count": 18,
   "metadata": {},
   "outputs": [],
   "source": [
    "\n",
    "# your code here, name the function greatest \n",
    "def greatest (list):\n",
    "    largest = lst[0]\n",
    "    for i in list:\n",
    "        if i > largest:\n",
    "            largest = i\n",
    "    return largest\n",
    "\n"
   ]
  },
  {
   "cell_type": "code",
   "execution_count": 19,
   "metadata": {},
   "outputs": [
    {
     "name": "stderr",
     "output_type": "stream",
     "text": [
      "...................................................."
     ]
    },
    {
     "name": "stderr",
     "output_type": "stream",
     "text": [
      "................................................\n",
      "----------------------------------------------------------------------\n",
      "Ran 100 tests in 0.138s\n",
      "\n",
      "OK\n"
     ]
    }
   ],
   "source": [
    "# This will test your function\n",
    "test_greatest(greatest)"
   ]
  },
  {
   "cell_type": "markdown",
   "metadata": {},
   "source": [
    "## 3. Write a function that sums all the elements on a list"
   ]
  },
  {
   "cell_type": "code",
   "execution_count": 16,
   "metadata": {},
   "outputs": [],
   "source": [
    "# your code here, name the function sum_all\n",
    "\n",
    "def sum_all(list):\n",
    "    total = 0\n",
    "    for i in list:\n",
    "        total += i\n",
    "    return total"
   ]
  },
  {
   "cell_type": "code",
   "execution_count": 17,
   "metadata": {},
   "outputs": [
    {
     "name": "stderr",
     "output_type": "stream",
     "text": [
      "................................................................................."
     ]
    },
    {
     "name": "stderr",
     "output_type": "stream",
     "text": [
      "...................\n",
      "----------------------------------------------------------------------\n",
      "Ran 100 tests in 0.144s\n",
      "\n",
      "OK\n"
     ]
    }
   ],
   "source": [
    "# This will test your function \n",
    "test_sum(sum_all)"
   ]
  },
  {
   "cell_type": "markdown",
   "metadata": {},
   "source": [
    "## 4. Write another function that multiplies all the elements on a list"
   ]
  },
  {
   "cell_type": "code",
   "execution_count": 23,
   "metadata": {},
   "outputs": [],
   "source": [
    "# your code here, name the function mult_all\n",
    "def mult_all(list):\n",
    "    total = 1\n",
    "    for i in list:\n",
    "        total *= i\n",
    "    return total"
   ]
  },
  {
   "cell_type": "code",
   "execution_count": 24,
   "metadata": {},
   "outputs": [
    {
     "name": "stderr",
     "output_type": "stream",
     "text": [
      "........................................"
     ]
    },
    {
     "name": "stderr",
     "output_type": "stream",
     "text": [
      "............................................................\n",
      "----------------------------------------------------------------------\n",
      "Ran 100 tests in 0.178s\n",
      "\n",
      "OK\n"
     ]
    }
   ],
   "source": [
    "# This will test your function \n",
    "test_mult(mult_all)"
   ]
  },
  {
   "cell_type": "markdown",
   "metadata": {},
   "source": [
    "## 5. Now combine those two ideas and write a function that receives a list and either \"+\" or \"*\" and outputs acordingly"
   ]
  },
  {
   "cell_type": "code",
   "execution_count": 29,
   "metadata": {},
   "outputs": [],
   "source": [
    "# your code here, name the function oper_all\n",
    "def oper_all(list, operator):\n",
    "    if operator == \"+\":\n",
    "        total = 0\n",
    "        for i in list:\n",
    "            total += i\n",
    "    elif operator == \"*\":\n",
    "        total = 1\n",
    "        for i in list:\n",
    "            total *= i\n",
    "    return total\n",
    "    \n",
    "        \n"
   ]
  },
  {
   "cell_type": "code",
   "execution_count": 30,
   "metadata": {},
   "outputs": [
    {
     "name": "stderr",
     "output_type": "stream",
     "text": [
      "........................................................................."
     ]
    },
    {
     "name": "stderr",
     "output_type": "stream",
     "text": [
      "...........................\n",
      "----------------------------------------------------------------------\n",
      "Ran 100 tests in 0.138s\n",
      "\n",
      "OK\n"
     ]
    }
   ],
   "source": [
    "# This will test your function \n",
    "test_operations(oper_all)"
   ]
  },
  {
   "cell_type": "markdown",
   "metadata": {},
   "source": [
    "## 6. Write a function that returns the factorial of a number."
   ]
  },
  {
   "cell_type": "code",
   "execution_count": 117,
   "metadata": {},
   "outputs": [],
   "source": [
    "#factorial formula\n",
    "#n! = n * ( n - 1 ) *...*1\n",
    "\n",
    "# This code defines a function called \"factorial\" which takes an input \"n\". The function uses a for loop to iterate through the range of numbers \n",
    "# from 1 to n+1. For each number in that range, it multiplies the current value of x by the number in the range. At the end of the loop, \n",
    "# the function returns the final value of x, which will be the factorial of the input number \"n\".\n",
    "\n",
    "# The Factorial of a positive integer n is the product of all positive integers less than or equal to n. \n",
    "# For example, the factorial of 6 (written \"6!\") is 6 * 5 * 4 * 3 * 2 * 1 = 720.\n",
    "\n",
    "# So this function takes an input of any positive integer, and returns the factorial of that number."
   ]
  },
  {
   "cell_type": "code",
   "execution_count": 44,
   "metadata": {},
   "outputs": [],
   "source": [
    "\n",
    "# Si la función pide iterar dentro de un rango de 1 a n+1 range(1, n, n+1) como salió en el ejercicio del prework, \n",
    "#pero no se puede usar la función range, se puede usar un while loop.\n",
    "# less than or equal to n.\n",
    "def factorial(n):\n",
    "    totl = 1\n",
    "    x = 1\n",
    "    while x<= n:\n",
    "        totl *= x\n",
    "        x +=1\n",
    "    return totl\n",
    "\n",
    "\n"
   ]
  },
  {
   "cell_type": "code",
   "execution_count": 45,
   "metadata": {},
   "outputs": [
    {
     "name": "stderr",
     "output_type": "stream",
     "text": [
      "....................................................................................................\n",
      "----------------------------------------------------------------------\n",
      "Ran 100 tests in 0.149s\n",
      "\n",
      "OK\n"
     ]
    }
   ],
   "source": [
    "# This will test your function \n",
    "test_factorial(factorial)"
   ]
  },
  {
   "cell_type": "markdown",
   "metadata": {},
   "source": [
    "## 7. Write a function that takes a list and returns a list of the unique values.\n",
    "\n",
    "`NOTE: You cannot use set. 🤔`"
   ]
  },
  {
   "cell_type": "code",
   "execution_count": 48,
   "metadata": {},
   "outputs": [],
   "source": [
    "#la función va iterando sobre los valores y los añade a una lista vacía, siempre que ya no esten presentes\n",
    "def unique(list):\n",
    "    final_list = []\n",
    "    for i in list:\n",
    "        if i not in final_list:\n",
    "            final_list += [i]\n",
    "    return final_list"
   ]
  },
  {
   "cell_type": "code",
   "execution_count": 49,
   "metadata": {},
   "outputs": [
    {
     "name": "stderr",
     "output_type": "stream",
     "text": [
      "....................................................................................................\n",
      "----------------------------------------------------------------------\n",
      "Ran 100 tests in 0.344s\n",
      "\n",
      "OK\n"
     ]
    }
   ],
   "source": [
    "# This will test your function \n",
    "test_unique(unique)"
   ]
  },
  {
   "cell_type": "markdown",
   "metadata": {},
   "source": [
    "## 8. Write a function that returns the mode of a list, i.e.: the element that appears the most times.\n",
    "`NOTE: You should not use count... 🧐`"
   ]
  },
  {
   "cell_type": "code",
   "execution_count": 53,
   "metadata": {},
   "outputs": [],
   "source": [
    "# your code here, name the function mode_counter\n",
    "#he mirado en StackOverflow despues de probar algunas opciones y en un ejemplo practico se usa un diccionario \n",
    "#vacío para contar la frequencia de cada elemento \n",
    "def mode_counter(list):\n",
    "    most_times = {}\n",
    "    for i in list:\n",
    "        if i in most_times:\n",
    "            most_times[i] +=1\n",
    "        else:\n",
    "            most_times[i] =1\n",
    "    mode = 0\n",
    "    freq = 0\n",
    "    for key in most_times:\n",
    "        if most_times[key] > freq:\n",
    "            freq = most_times[key]\n",
    "            mode = key\n",
    "    return mode"
   ]
  },
  {
   "cell_type": "code",
   "execution_count": 54,
   "metadata": {},
   "outputs": [
    {
     "name": "stderr",
     "output_type": "stream",
     "text": [
      "................................."
     ]
    },
    {
     "name": "stderr",
     "output_type": "stream",
     "text": [
      "...................................................................\n",
      "----------------------------------------------------------------------\n",
      "Ran 100 tests in 0.169s\n",
      "\n",
      "OK\n"
     ]
    }
   ],
   "source": [
    "# This will test your function \n",
    "test_mode(mode_counter)"
   ]
  },
  {
   "cell_type": "markdown",
   "metadata": {},
   "source": [
    "## 9. Write a function that calculates the standard deviation of a list.\n",
    "`NOTE: Do not use any libraries or already built functions. 😉`"
   ]
  },
  {
   "cell_type": "code",
   "execution_count": 2,
   "metadata": {},
   "outputs": [],
   "source": [
    "# your code here, name the function st_dev\n",
    "#Si no se pueden usar funciones ya existentes, se puede iniciar creando una para calcular la media de una lista\n",
    "#La segunda parte me he ayudado de herramientas porque no lo entendía del todo el planteamiento inicial.\n",
    "\n",
    "def mean_(list):\n",
    "    return sum(list)/len(list)\n",
    "\n",
    "def st_dev(list):\n",
    "    mean = mean_(list)\n",
    "    dif_cuad = 0\n",
    "\n",
    "    for i in list:\n",
    "        dif_cuad += (i - mean)**2\n",
    "\n",
    "    v = dif_cuad/len(list)\n",
    "    deviat = v ** 0.5\n",
    "    return deviat"
   ]
  },
  {
   "cell_type": "code",
   "execution_count": 3,
   "metadata": {},
   "outputs": [
    {
     "ename": "NameError",
     "evalue": "name 'test_stdev' is not defined",
     "output_type": "error",
     "traceback": [
      "\u001b[1;31m---------------------------------------------------------------------------\u001b[0m",
      "\u001b[1;31mNameError\u001b[0m                                 Traceback (most recent call last)",
      "Cell \u001b[1;32mIn[3], line 2\u001b[0m\n\u001b[0;32m      1\u001b[0m \u001b[38;5;66;03m# This will test your function \u001b[39;00m\n\u001b[1;32m----> 2\u001b[0m \u001b[43mtest_stdev\u001b[49m(st_dev)\n",
      "\u001b[1;31mNameError\u001b[0m: name 'test_stdev' is not defined"
     ]
    }
   ],
   "source": [
    "# This will test your function \n",
    "test_stdev(st_dev)"
   ]
  },
  {
   "cell_type": "markdown",
   "metadata": {},
   "source": [
    "## 10. Write a function to check if a string is a pangram, i.e.: if it contains all the letters of the alphabet at least once. Mind that the strings may contain characters that are not letters."
   ]
  },
  {
   "cell_type": "code",
   "execution_count": 14,
   "metadata": {},
   "outputs": [],
   "source": [
    "# your code here, name the function pangram\n",
    "def pangram(a_string):\n",
    "    letters = \"abcdefghijklmnopqrstuvwxyz\"\n",
    "    a_string_low = a_string.lower()\n",
    "\n",
    "    for char in letters:\n",
    "        if char not in a_string_low:\n",
    "            return False\n",
    "    for char in a_string:\n",
    "        if not char.isalpha():\n",
    "            print(f\"Hay un caracter inesperado '{char}' \")\n",
    "    \n",
    "    \n",
    "    return True\n"
   ]
  },
  {
   "cell_type": "code",
   "execution_count": 15,
   "metadata": {},
   "outputs": [
    {
     "name": "stderr",
     "output_type": "stream",
     "text": [
      "..............................\n",
      "----------------------------------------------------------------------\n",
      "Ran 30 tests in 0.048s\n",
      "\n",
      "OK\n"
     ]
    },
    {
     "name": "stdout",
     "output_type": "stream",
     "text": [
      "Hay un caracter inesperado ',' \n",
      "Hay un caracter inesperado ' ' \n",
      "Hay un caracter inesperado ',' \n",
      "Hay un caracter inesperado ' ' \n",
      "Hay un caracter inesperado ' ' \n",
      "Hay un caracter inesperado ' ' \n",
      "Hay un caracter inesperado ' ' \n",
      "Hay un caracter inesperado ' ' \n",
      "Hay un caracter inesperado '.' \n",
      "Hay un caracter inesperado ' ' \n",
      "Hay un caracter inesperado ' ' \n",
      "Hay un caracter inesperado ' ' \n",
      "Hay un caracter inesperado ',' \n",
      "Hay un caracter inesperado ' ' \n",
      "Hay un caracter inesperado ' ' \n",
      "Hay un caracter inesperado ' ' \n",
      "Hay un caracter inesperado '.' \n",
      "Hay un caracter inesperado ' ' \n",
      "Hay un caracter inesperado ' ' \n",
      "Hay un caracter inesperado ' ' \n",
      "Hay un caracter inesperado ' ' \n",
      "Hay un caracter inesperado ' ' \n",
      "Hay un caracter inesperado ' ' \n",
      "Hay un caracter inesperado ' ' \n",
      "Hay un caracter inesperado '.' \n",
      "Hay un caracter inesperado ' ' \n",
      "Hay un caracter inesperado ' ' \n",
      "Hay un caracter inesperado ' ' \n",
      "Hay un caracter inesperado ' ' \n",
      "Hay un caracter inesperado ' ' \n",
      "Hay un caracter inesperado ' ' \n",
      "Hay un caracter inesperado '.' \n",
      "Hay un caracter inesperado ' ' \n",
      "Hay un caracter inesperado ' ' \n",
      "Hay un caracter inesperado ' ' \n",
      "Hay un caracter inesperado ' ' \n",
      "Hay un caracter inesperado ' ' \n",
      "Hay un caracter inesperado ' ' \n",
      "Hay un caracter inesperado '.' \n",
      "Hay un caracter inesperado ' ' \n",
      "Hay un caracter inesperado ' ' \n",
      "Hay un caracter inesperado ' ' \n",
      "Hay un caracter inesperado ' ' \n",
      "Hay un caracter inesperado ' ' \n",
      "Hay un caracter inesperado '.' \n",
      "Hay un caracter inesperado ' ' \n",
      "Hay un caracter inesperado ' ' \n",
      "Hay un caracter inesperado ' ' \n",
      "Hay un caracter inesperado ' ' \n",
      "Hay un caracter inesperado ' ' \n",
      "Hay un caracter inesperado '!' \n",
      "Hay un caracter inesperado ' ' \n",
      "Hay un caracter inesperado ' ' \n",
      "Hay un caracter inesperado ',' \n",
      "Hay un caracter inesperado ' ' \n",
      "Hay un caracter inesperado ' ' \n",
      "Hay un caracter inesperado ' ' \n",
      "Hay un caracter inesperado '.' \n",
      "Hay un caracter inesperado ' ' \n",
      "Hay un caracter inesperado ' ' \n",
      "Hay un caracter inesperado ' ' \n",
      "Hay un caracter inesperado ' ' \n",
      "Hay un caracter inesperado ' ' \n",
      "Hay un caracter inesperado ' ' \n",
      "Hay un caracter inesperado ' ' \n",
      "Hay un caracter inesperado '.' \n",
      "Hay un caracter inesperado ' ' \n",
      "Hay un caracter inesperado ',' \n",
      "Hay un caracter inesperado ' ' \n",
      "Hay un caracter inesperado ',' \n",
      "Hay un caracter inesperado ' ' \n",
      "Hay un caracter inesperado ',' \n",
      "Hay un caracter inesperado ' ' \n",
      "Hay un caracter inesperado ' ' \n",
      "Hay un caracter inesperado ' ' \n",
      "Hay un caracter inesperado ' ' \n",
      "Hay un caracter inesperado ' ' \n",
      "Hay un caracter inesperado '!' \n",
      "Hay un caracter inesperado ' ' \n",
      "Hay un caracter inesperado ' ' \n",
      "Hay un caracter inesperado ' ' \n",
      "Hay un caracter inesperado ' ' \n",
      "Hay un caracter inesperado '.' \n",
      "Hay un caracter inesperado ' ' \n",
      "Hay un caracter inesperado ''' \n",
      "Hay un caracter inesperado ' ' \n",
      "Hay un caracter inesperado ' ' \n",
      "Hay un caracter inesperado ' ' \n",
      "Hay un caracter inesperado ' ' \n",
      "Hay un caracter inesperado ' ' \n",
      "Hay un caracter inesperado ' ' \n",
      "Hay un caracter inesperado ' ' \n",
      "Hay un caracter inesperado ' ' \n",
      "Hay un caracter inesperado '.' \n",
      "Hay un caracter inesperado ' ' \n",
      "Hay un caracter inesperado ''' \n",
      "Hay un caracter inesperado '!' \n",
      "Hay un caracter inesperado ''' \n",
      "Hay un caracter inesperado ',' \n",
      "Hay un caracter inesperado ' ' \n",
      "Hay un caracter inesperado ' ' \n",
      "Hay un caracter inesperado ''' \n",
      "Hay un caracter inesperado ' ' \n",
      "Hay un caracter inesperado ' ' \n",
      "Hay un caracter inesperado ' ' \n",
      "Hay un caracter inesperado ' ' \n",
      "Hay un caracter inesperado '.' \n",
      "Hay un caracter inesperado ' ' \n",
      "Hay un caracter inesperado ',' \n",
      "Hay un caracter inesperado ' ' \n",
      "Hay un caracter inesperado ' ' \n",
      "Hay un caracter inesperado ' ' \n",
      "Hay un caracter inesperado ' ' \n",
      "Hay un caracter inesperado ' ' \n",
      "Hay un caracter inesperado ' ' \n",
      "Hay un caracter inesperado ' ' \n",
      "Hay un caracter inesperado ' ' \n",
      "Hay un caracter inesperado '!' \n",
      "Hay un caracter inesperado ' ' \n",
      "Hay un caracter inesperado ' ' \n",
      "Hay un caracter inesperado ',' \n",
      "Hay un caracter inesperado ' ' \n",
      "Hay un caracter inesperado ' ' \n",
      "Hay un caracter inesperado ' ' \n",
      "Hay un caracter inesperado ' ' \n",
      "Hay un caracter inesperado '.' \n"
     ]
    }
   ],
   "source": [
    "# This will test your function \n",
    "test_pangram(pangram)"
   ]
  },
  {
   "cell_type": "markdown",
   "metadata": {},
   "source": [
    "## 11. Write a function that receives a string of comma separated words and returns a string of comma separated words sorted alphabetically.\n",
    "\n",
    "`NOTE: You may use sorted but not split and definitely no join! 🤪`"
   ]
  },
  {
   "cell_type": "code",
   "execution_count": 31,
   "metadata": {},
   "outputs": [],
   "source": [
    "# your code here, name the function sort_alpha\n",
    "def sort_alpha(string_c):\n",
    "    words = []\n",
    "    selected = \"\"\n",
    "\n",
    "    for char in string_c:\n",
    "        if char == ',':\n",
    "            words.append(selected)\n",
    "            selected = \"\"\n",
    "        else: \n",
    "            selected += char\n",
    "    words.append(selected)\n",
    "\n",
    "    alpha_sort = sorted(words)\n",
    "    selected_2 = \"\"\n",
    "    for word in alpha_sort:\n",
    "       selected_2 += word + \",\"\n",
    "\n",
    "    return selected_2.rstrip(',')\n"
   ]
  },
  {
   "cell_type": "code",
   "execution_count": 32,
   "metadata": {},
   "outputs": [
    {
     "name": "stderr",
     "output_type": "stream",
     "text": [
      "....................."
     ]
    },
    {
     "name": "stderr",
     "output_type": "stream",
     "text": [
      "...............................................................................\n",
      "----------------------------------------------------------------------\n",
      "Ran 100 tests in 0.174s\n",
      "\n",
      "OK\n"
     ]
    }
   ],
   "source": [
    "# This will test your function \n",
    "test_alpha(sort_alpha)"
   ]
  },
  {
   "cell_type": "markdown",
   "metadata": {},
   "source": [
    "## 12. Write a function to check if a given password is strong (at least 8 characters, at least one lower case, at least one upper case, at least one number and at least one special character). It should output True if strong and False if not."
   ]
  },
  {
   "cell_type": "code",
   "execution_count": 33,
   "metadata": {},
   "outputs": [],
   "source": [
    "# your code here, name the function check_pass (no test required here)\n",
    "\n",
    "def check_pass(password):\n",
    "    if len(password) < 8:\n",
    "        return False\n",
    "    \n",
    "    lowercase_pass = 0\n",
    "    uppercase_pass = 0\n",
    "    digit_pass = 0\n",
    "    special_char_pass = 0\n",
    "\n",
    "    for char in password:\n",
    "        if char.islower():\n",
    "            lowercase_pass = True\n",
    "        elif char.isupper():\n",
    "            uppercase_pass = True\n",
    "        elif char.isdigit():\n",
    "            digit_pass = True\n",
    "        elif char in '!@#$%^&*(),.?\":{}|<>':\n",
    "            special_char_pass = True\n",
    "    return lowercase_pass and uppercase_pass and digit_pass and special_char_pass\n",
    "\n"
   ]
  }
 ],
 "metadata": {
  "kernelspec": {
   "display_name": "Python 3 (ipykernel)",
   "language": "python",
   "name": "python3"
  },
  "language_info": {
   "codemirror_mode": {
    "name": "ipython",
    "version": 3
   },
   "file_extension": ".py",
   "mimetype": "text/x-python",
   "name": "python",
   "nbconvert_exporter": "python",
   "pygments_lexer": "ipython3",
   "version": "3.11.7"
  },
  "vscode": {
   "interpreter": {
    "hash": "aee8b7b246df8f9039afb4144a1f6fd8d2ca17a180786b69acc140d282b71a49"
   }
  }
 },
 "nbformat": 4,
 "nbformat_minor": 4
}
