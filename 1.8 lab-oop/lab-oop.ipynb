{
 "cells": [
  {
   "cell_type": "markdown",
   "metadata": {},
   "source": [
    "# OOP\n",
    "\n",
    "In this lab we will put into practice what we have seen in class.\n",
    "\n",
    "`NOTE: It is split in two different Exercise: Do NOT try to change the order as the idea is to build a class from scratch using all the steps on each exercise` \n",
    "\n",
    "Good Luck! "
   ]
  },
  {
   "cell_type": "markdown",
   "metadata": {},
   "source": [
    "## Exercise 1: Car Class\n",
    "\n",
    "Use the origina code below to start with the exercise: "
   ]
  },
  {
   "cell_type": "code",
   "execution_count": 2,
   "metadata": {},
   "outputs": [],
   "source": [
    "class Car:\n",
    "    def __init__(self, color): \n",
    "        self.color = color\n",
    "\n",
    "\n"
   ]
  },
  {
   "cell_type": "markdown",
   "metadata": {},
   "source": [
    "### 1.1: Basic Info\n",
    "\n",
    "- This class Car is incomplete. We need to have more attributes, in this case we will need the user to add the Brand of the car (p.e. Fiat, Volvo, etc\") and the number of wheels (always 4). Build the first function called info, where it should print all the information of the car.\n",
    "- Try using the upper, capitalize or lower methods of strings to make the print look realistic. "
   ]
  },
  {
   "cell_type": "code",
   "execution_count": 7,
   "metadata": {},
   "outputs": [],
   "source": [
    "# Your Code here\n",
    "class Car:\n",
    "    def __init__(self, color, brand, wheels=4): \n",
    "        self.color = color\n",
    "        self.brand = brand\n",
    "        self.wheels = wheels\n",
    "    def info(self):\n",
    "        print(\"Info\")\n",
    "        print(f\"The Car brand is: {self.brand.capitalize()}\")\n",
    "        print(f\"The color is: {self.color.lower()}\")\n",
    "        print(f\"Number of wheels {self.wheels}\")\n"
   ]
  },
  {
   "cell_type": "code",
   "execution_count": 10,
   "metadata": {},
   "outputs": [
    {
     "name": "stdout",
     "output_type": "stream",
     "text": [
      "Info\n",
      "The Car brand is: Bmw\n",
      "The color is: red\n",
      "Number of wheels 4\n"
     ]
    }
   ],
   "source": [
    "# try your code with this example\n",
    "bmw=Car(\"red\", \"BMW\")\n",
    "bmw.info()"
   ]
  },
  {
   "cell_type": "markdown",
   "metadata": {},
   "source": [
    "### 1.2: Turn On/Off\n",
    "\n",
    "- Set a new attribute called `engine`. In it there will only be two options, ON and OFF. Originally, this new attribute will be OFF as the car engine will be OFF. \n",
    "- Create two more methods called `encender` and `apagar`. Take into consideration that if the car is ON and you try the encender, a message should be printed: \"No se puede encender "
   ]
  },
  {
   "cell_type": "code",
   "execution_count": 48,
   "metadata": {},
   "outputs": [],
   "source": [
    "# Your Code here: \n",
    "class Car:\n",
    "    def __init__(self, color, brand, wheels=4): \n",
    "        self.color = color\n",
    "        self.brand = brand\n",
    "        self.wheels = wheels\n",
    "        self.engine = \"OFF\"\n",
    "    def info(self):\n",
    "        print(\"Info\")\n",
    "        print(f\"The Car brand is: {self.brand.capitalize()}\")\n",
    "        print(f\"The color is: {self.color.lower()}\")\n",
    "        print(f\"Number of wheels {self.wheels}\")\n",
    "        print(f\"Engine: {self.engine}\")\n",
    "\n",
    "    def encender(self):\n",
    "         if self.engine == \"OFF\":\n",
    "                self.engine = \"ON\"\n",
    "                print(\"Motor encendido\")\n",
    "         else:\n",
    "              print(\"No se puede encender, ya está encendido!\")\n",
    "                \n",
    "    \n",
    "    def apagar(self):\n",
    "          if self.engine == \"ON\":\n",
    "                self.engine = \"OFF\"  \n",
    "                print(\"Apagando motor\")\n",
    "          else:\n",
    "               print(\"No se puede apagar, ya estaba apagado\")\n",
    "                \n",
    "        \n",
    "\n",
    "\n",
    "\n"
   ]
  },
  {
   "cell_type": "code",
   "execution_count": 49,
   "metadata": {},
   "outputs": [
    {
     "name": "stdout",
     "output_type": "stream",
     "text": [
      "Info\n",
      "The Car brand is: Delorean\n",
      "The color is: azul eléctrico\n",
      "Number of wheels 4\n",
      "Engine: OFF\n",
      "Motor encendido\n"
     ]
    }
   ],
   "source": [
    "#Try the method a couple of times to see if the behaviour of the car is working well (p.e. dos veces función encendida o 2 veces función apagada)\n",
    "cochecito = Car(\"Azul eléctrico\", \"Delorean\")\n",
    "cochecito.info()\n",
    "cochecito.encender()\n"
   ]
  },
  {
   "cell_type": "code",
   "execution_count": 50,
   "metadata": {},
   "outputs": [
    {
     "name": "stdout",
     "output_type": "stream",
     "text": [
      "No se puede encender, ya está encendido!\n",
      "Info\n",
      "The Car brand is: Delorean\n",
      "The color is: azul eléctrico\n",
      "Number of wheels 4\n",
      "Engine: ON\n"
     ]
    }
   ],
   "source": [
    "cochecito.encender()\n",
    "cochecito.info()"
   ]
  },
  {
   "cell_type": "code",
   "execution_count": 51,
   "metadata": {},
   "outputs": [
    {
     "name": "stdout",
     "output_type": "stream",
     "text": [
      "Apagando motor\n"
     ]
    }
   ],
   "source": [
    "cochecito.apagar()"
   ]
  },
  {
   "cell_type": "code",
   "execution_count": 52,
   "metadata": {},
   "outputs": [
    {
     "name": "stdout",
     "output_type": "stream",
     "text": [
      "No se puede apagar, ya estaba apagado\n"
     ]
    }
   ],
   "source": [
    "cochecito.apagar()"
   ]
  },
  {
   "cell_type": "markdown",
   "metadata": {},
   "source": [
    "### 1.3 Accelerate/reduce/break\n",
    "\n",
    "Here we are going to set a new attribute: `speed`. The original speed of each vehicle must be 0. We will then add three methods: acelerar, reducir and frenar. `acelerar` will increase the speed, `reducir` will reduce it and `frenar` will take it back to 0 again. \n",
    "Extra conditions: \n",
    "\n",
    "Try tu use the logic to know some basic interactions between this methods and the methods seen in 1.2. First try it yourself before revealing the hidden information!\n",
    "\n",
    "\n",
    "<details>\n",
    "    <summary> Expand the box to see the logic between methods </summary>\n",
    "    \n",
    "Extra conditions: \n",
    "- The engine must be ON to use this 3 new method\n",
    "\n",
    "- If the speed is different to 0, you can not use the `apagar` method\n",
    "\n",
    "- If you use `reducir` to a number that makes the speed in negative numbers, you can not use reducir.  \n",
    "\n",
    "- To avoid using the `__dict__`, add the speed and the engine state as new info in the `info` method\n",
    "\n",
    "- For both `acelerar` and `reducir`, everytime you use this method you must send an argument (how much is the car accelerating and reducing everytime you call this function)\n",
    "\n",
    "</details>\n"
   ]
  },
  {
   "cell_type": "code",
   "execution_count": 56,
   "metadata": {},
   "outputs": [],
   "source": [
    "# Your Code here: \n",
    "class Car:\n",
    "    def __init__(self, color, brand, wheels=4): \n",
    "        self.color = color\n",
    "        self.brand = brand\n",
    "        self.wheels = wheels\n",
    "        self.engine = \"OFF\"\n",
    "        self.speed = 0\n",
    "\n",
    "    def info(self):\n",
    "        print(\"Info\")\n",
    "        print(f\"The Car brand is: {self.brand.capitalize()}\")\n",
    "        print(f\"The color is: {self.color.lower()}\")\n",
    "        print(f\"Number of wheels {self.wheels}\")\n",
    "        print(f\"Engine: {self.engine}\")\n",
    "        print(f\"The actual speed is: {self.speed}\")\n",
    "\n",
    "    def encender(self):\n",
    "         if self.engine == \"OFF\":\n",
    "                self.engine = \"ON\"\n",
    "                print(\"Motor encendido\")\n",
    "         else:\n",
    "              print(\"No se puede encender, ya está encendido!\")\n",
    "                \n",
    "    \n",
    "    def apagar(self):\n",
    "          if self.speed != 0:\n",
    "               print(\"No se puede apagar con el coche en marcha\")\n",
    "          if self.engine == \"ON\":\n",
    "                self.engine = \"OFF\"  \n",
    "                print(\"Apagando motor\")\n",
    "          else:\n",
    "               print(\"No se puede apagar, ya estaba apagado\")\n",
    "    \n",
    "    def acelerar(self, amount):\n",
    "         if self.engine == \"OFF\":\n",
    "              print(\"Motor apagado, encender antes de poder acelerar\")\n",
    "         else: \n",
    "              self.speed += amount\n",
    "              print(f\"Velocidad aumentada en {amount}, velocidad actual: {self.speed}\")\n",
    "         \n",
    "         \n",
    "    def reducir(self, amount):\n",
    "         if self.engine == \"OFF\":\n",
    "              print(\"Motor apagado, por favor,hay que encenderlo primero\")\n",
    "         elif self.speed - amount < 0: #para que no salga output numeros negativos\n",
    "              print(\"No se puede reducir tanto la vel. \") \n",
    "         else:\n",
    "              self.speed -= amount\n",
    "              print(f\"Velocidad reducida en {amount}, velocidad actual {self.speed}\")\n",
    "  \n",
    "  \n",
    "    def frenar(self):\n",
    "         if self.engine == \"OFF\":\n",
    "              print(\"Motor apagado, encender antes de poder frenar\")\n",
    "         else:\n",
    "              self.speed = 0\n",
    "              print(\"Se ha frenado, la velocidad es 0\")\n",
    "\n",
    "\n"
   ]
  },
  {
   "cell_type": "code",
   "execution_count": 57,
   "metadata": {},
   "outputs": [],
   "source": [
    "#Try combos with this same car!\n",
    "bmw=Car(\"rojo\", \"BMW\")"
   ]
  },
  {
   "cell_type": "code",
   "execution_count": 58,
   "metadata": {},
   "outputs": [
    {
     "name": "stdout",
     "output_type": "stream",
     "text": [
      "Info\n",
      "The Car brand is: Bmw\n",
      "The color is: rojo\n",
      "Number of wheels 4\n",
      "Engine: OFF\n",
      "The actual speed is: 0\n",
      "Motor encendido\n",
      "Velocidad aumentada en 5, velocidad actual: 5\n",
      "Velocidad reducida en 4, velocidad actual 1\n",
      "Info\n",
      "The Car brand is: Bmw\n",
      "The color is: rojo\n",
      "Number of wheels 4\n",
      "Engine: ON\n",
      "The actual speed is: 1\n",
      "No se puede apagar con el coche en marcha\n",
      "Apagando motor\n",
      "Motor apagado, encender antes de poder frenar\n",
      "No se puede apagar con el coche en marcha\n",
      "No se puede apagar, ya estaba apagado\n"
     ]
    }
   ],
   "source": [
    "#Try all the combinations you like and see if it works!\n",
    "\n",
    "bmw.info()\n",
    "bmw.encender()\n",
    "bmw.acelerar(5)\n",
    "bmw.reducir(4)\n",
    "bmw.info()\n",
    "bmw.apagar()\n",
    "bmw.frenar()\n",
    "bmw.apagar()"
   ]
  },
  {
   "cell_type": "markdown",
   "metadata": {},
   "source": [
    "### 1.4 Maximum Speed\n",
    "\n",
    "We will now set a new parameter the user should introduce: `max_speed`. If the user do NOT set this parameter, the **default value** should be 120\n",
    "\n",
    "(the code should work for both Car(\"blue\", \"FIAT\") and Car(\"purple\", \"Mini\", 130) )\n",
    "\n",
    "The only thing that must change from the previous code is that your speed can NEVER be over the limit of the car. If you try to accelerate more, the speed of the car will be max_speed. "
   ]
  },
  {
   "cell_type": "code",
   "execution_count": 61,
   "metadata": {},
   "outputs": [],
   "source": [
    "# Your Code here: \n",
    "class Car:\n",
    "    def __init__(self, color, brand, wheels=4, max_speed = 120): \n",
    "        self.color = color\n",
    "        self.brand = brand\n",
    "        self.wheels = wheels\n",
    "        self.engine = \"OFF\"\n",
    "        self.speed = 0\n",
    "        self.max_speed = max_speed\n",
    "\n",
    "    def info(self):\n",
    "        print(\"Info\")\n",
    "        print(f\"The Car brand is: {self.brand.capitalize()}\")\n",
    "        print(f\"The color is: {self.color.lower()}\")\n",
    "        print(f\"Number of wheels {self.wheels}\")\n",
    "        print(f\"Engine: {self.engine}\")\n",
    "        print(f\"The actual speed is: {self.speed}\")\n",
    "        print(f\"Max speed: {self.max_speed}\")\n",
    "\n",
    "    def encender(self):\n",
    "         if self.engine == \"OFF\":\n",
    "                self.engine = \"ON\"\n",
    "                print(\"Motor encendido\")\n",
    "         else:\n",
    "              print(\"No se puede encender, ya está encendido!\")\n",
    "                \n",
    "    \n",
    "    def apagar(self):\n",
    "          if self.speed != 0:\n",
    "               print(\"No se puede apagar con el coche en marcha\")\n",
    "          elif self.engine == \"ON\":\n",
    "                self.engine = \"OFF\"  \n",
    "                print(\"Apagando motor\")\n",
    "          else:\n",
    "               print(\"No se puede apagar, ya estaba apagado\")\n",
    "    \n",
    "    def acelerar(self, amount):\n",
    "         if self.engine == \"OFF\":\n",
    "              print(\"Motor apagado, encender antes de poder acelerar\")\n",
    "         else: \n",
    "              if self.speed + amount > self.max_speed:\n",
    "                   self.speed = self.max_speed\n",
    "                   print(f\"Estás en velocidad máxima: {self.max_speed}\") \n",
    "              else: \n",
    "                   self.speed += amount\n",
    "                   print(f\"Velocidad aumentada en {amount}. Velocidad actual: {self.speed}\")\n",
    "         \n",
    "         \n",
    "    def reducir(self, amount):\n",
    "         if self.engine == \"OFF\":\n",
    "              print(\"Motor apagado, por favor,hay que encenderlo primero\")\n",
    "         elif self.speed - amount < 0: #para que no salga output numeros negativos\n",
    "              print(\"No se puede reducir tanto la vel. \") \n",
    "         else:\n",
    "              self.speed -= amount\n",
    "              print(f\"Velocidad reducida en {amount}, velocidad actual {self.speed}\")\n",
    "  \n",
    "  \n",
    "    def frenar(self):\n",
    "         if self.engine == \"OFF\":\n",
    "              print(\"Motor apagado, encender antes de poder frenar\")\n",
    "         else:\n",
    "              self.speed = 0\n",
    "              print(\"Se ha frenado, la velocidad es 0\")\n",
    "\n",
    "    \n",
    "\n",
    "\n"
   ]
  },
  {
   "cell_type": "code",
   "execution_count": 66,
   "metadata": {},
   "outputs": [
    {
     "name": "stdout",
     "output_type": "stream",
     "text": [
      "Motor apagado, encender antes de poder acelerar\n",
      "Motor encendido\n",
      "Estás en velocidad máxima: 120\n"
     ]
    }
   ],
   "source": [
    "#try the code here: \n",
    "fiat=Car(\"red\", \"Fiat\", 130)\n",
    "fiat.acelerar(125)\n",
    "fiat.encender()\n",
    "fiat.acelerar(130)"
   ]
  },
  {
   "cell_type": "markdown",
   "metadata": {},
   "source": [
    "## Exercise 2: Inheritance\n",
    "\n",
    "Let's recover this example set in our class: "
   ]
  },
  {
   "cell_type": "code",
   "execution_count": 67,
   "metadata": {},
   "outputs": [],
   "source": [
    "class Staff ():\n",
    "        \n",
    "    def __init__ (self, name, fname):\n",
    "        self.name = name.capitalize()\n",
    "        self.fname = fname\n",
    "        \n",
    "        # Default\n",
    "        self.time_off = 20\n",
    "        \n",
    "        #Default: as a result\n",
    "        self.email = self.name.lower() + \".\" + self.fname.lower() + \"@ironhack.com\"\n",
    "        \n",
    "        self.hobbies = []\n",
    "        \n",
    "    \n",
    "    def introduce (self):\n",
    "        return f\"Hello, my name is {self.name}!\"\n",
    "    \n",
    "    def takes_days_off (self, number):\n",
    "        if self.time_off-number >= 0:\n",
    "            self.time_off -= number\n",
    "            return f\"Now you have {self.time_off} days off available\"\n",
    "        else:\n",
    "            return f\"Sorry, you ran out of days. Your total time_off available is {self.time_off}\"\n",
    "    \n",
    "    def hobbies_function (self, *hob): #passing an optional argument\n",
    "        if hob:\n",
    "            for i in hob:\n",
    "                self.hobbies.append(i)\n",
    "                print(f\"We added: {self.hobbies[-1]}\")\n",
    "            return self.hobbies_function()\n",
    "        else:\n",
    "            new = \", \".join([i for i in self.hobbies])\n",
    "            return f\"My hobbies are: {new}\""
   ]
  },
  {
   "cell_type": "markdown",
   "metadata": {},
   "source": [
    "### 2.1 Class Variable\n",
    "\n",
    "Create a class variable (attribute shared by everybody in the organization). This class variable will `company`, and it should be always **Ironhack**"
   ]
  },
  {
   "cell_type": "code",
   "execution_count": 68,
   "metadata": {},
   "outputs": [],
   "source": [
    "class Staff ():\n",
    "    company = \"IronHack\"\n",
    "        \n",
    "    def __init__ (self, name, fname):\n",
    "        self.name = name.capitalize()\n",
    "        self.fname = fname\n",
    "        \n",
    "        # Default\n",
    "        self.time_off = 20\n",
    "        \n",
    "        #Default: as a result\n",
    "        self.email = self.name.lower() + \".\" + self.fname.lower() + \"@ironhack.com\"\n",
    "        \n",
    "        self.hobbies = []\n",
    "        \n",
    "    \n",
    "    def introduce (self):\n",
    "        return f\"Hello, my name is {self.name}!\"\n",
    "    \n",
    "    def takes_days_off (self, number):\n",
    "        if self.time_off-number >= 0:\n",
    "            self.time_off -= number\n",
    "            return f\"Now you have {self.time_off} days off available\"\n",
    "        else:\n",
    "            return f\"Sorry, you ran out of days. Your total time_off available is {self.time_off}\"\n",
    "    \n",
    "    def hobbies_function (self, *hob): #passing an optional argument\n",
    "        if hob:\n",
    "            for i in hob:\n",
    "                self.hobbies.append(i)\n",
    "                print(f\"We added: {self.hobbies[-1]}\")\n",
    "            return self.hobbies_function()\n",
    "        else:\n",
    "            new = \", \".join([i for i in self.hobbies])\n",
    "            return f\"My hobbies are: {new}\"\n",
    "        \n",
    "  "
   ]
  },
  {
   "cell_type": "markdown",
   "metadata": {},
   "source": [
    "### 1.2 Info Method\n",
    "\n",
    "As in the previous exercise, set a method to know all the information related with each person: Name, Surname, Time_Off Available, Mail, hobbies and Company"
   ]
  },
  {
   "cell_type": "code",
   "execution_count": 70,
   "metadata": {},
   "outputs": [],
   "source": [
    "# Your code here\n",
    "class Staff ():\n",
    "    company = \"IronHack\"\n",
    "        \n",
    "    def __init__ (self, name, fname):\n",
    "        self.name = name.capitalize()\n",
    "        self.fname = fname\n",
    "        \n",
    "        # Default\n",
    "        self.time_off = 20\n",
    "        \n",
    "        #Default: as a result\n",
    "        self.email = self.name.lower() + \".\" + self.fname.lower() + \"@ironhack.com\"\n",
    "        \n",
    "        self.hobbies = []\n",
    "        \n",
    "    \n",
    "    def introduce (self):\n",
    "        return f\"Hello, my name is {self.name}!\"\n",
    "    \n",
    "    def takes_days_off (self, number):\n",
    "        if self.time_off-number >= 0:\n",
    "            self.time_off -= number\n",
    "            return f\"Now you have {self.time_off} days off available\"\n",
    "        else:\n",
    "            return f\"Sorry, you ran out of days. Your total time_off available is {self.time_off}\"\n",
    "    \n",
    "    def hobbies_function (self, *hob): #passing an optional argument\n",
    "        if hob:\n",
    "            for i in hob:\n",
    "                self.hobbies.append(i)\n",
    "                print(f\"We added: {self.hobbies[-1]}\")\n",
    "            return self.hobbies_function()\n",
    "        else:\n",
    "            new = \", \".join([i for i in self.hobbies])\n",
    "            return f\"My hobbies are: {new}\"\n",
    "        \n",
    "    def info(self):\n",
    "        print(f\"Name: {self.name}\")\n",
    "        print(f\"Surname: {self.fname}\")\n",
    "        print(f\"Time off available: {self.time_off} days\")\n",
    "        print(f\"Email: {self.email}\")\n",
    "        print(f\"Hobbies: {','.join(self.hobbies)}\")\n",
    "        print(f\"Company: {self.company}\")"
   ]
  },
  {
   "cell_type": "code",
   "execution_count": 71,
   "metadata": {},
   "outputs": [
    {
     "name": "stdout",
     "output_type": "stream",
     "text": [
      "We added: Basketball\n",
      "We added: Board Games\n",
      "We added: Coding\n",
      "Name: Gonzalo\n",
      "Surname: Quesada\n",
      "Time off available: 15 days\n",
      "Email: gonzalo.quesada@ironhack.com\n",
      "Hobbies: Basketball,Board Games,Coding\n",
      "Company: IronHack\n"
     ]
    }
   ],
   "source": [
    "# Try it here!!\n",
    "\n",
    "bestteacherever=Staff(\"Gonzalo\", \"Quesada\")\n",
    "bestteacherever.hobbies_function(\"Basketball\", \"Board Games\", \"Coding\")\n",
    "bestteacherever.takes_days_off(5)\n",
    "bestteacherever.info()"
   ]
  },
  {
   "cell_type": "markdown",
   "metadata": {},
   "source": [
    "### 1.3 Inheritance\n",
    "\n",
    "Now suppose the Marketing department works differently, but inside the organization. In other words, Staff will be the Parent Class and Marketing the Child. The differences are: \n",
    "\n",
    "- The mail must end with .mktg (for example, instead of laura.molas@ironhack.com it should be laura.molas.mktg@ironhack.com)\n",
    "- The total days they have of time_off is 30 (Lucky them...)\n",
    "- In addition, in the `introduce` method, they should salute the same as in Staff BUT adding that they are from the Marketing dpt. "
   ]
  },
  {
   "cell_type": "code",
   "execution_count": 72,
   "metadata": {},
   "outputs": [],
   "source": [
    "class Marketing(Staff):\n",
    "    def __init__(self, name, fname):\n",
    "        super().__init__(name, fname)\n",
    "        self.time_off = 30\n",
    "        \n",
    "    def introduce(self):\n",
    "        return f\"{super().introduce()} I am from the Marketing department.\"\n",
    "    \n",
    "    def get_email(self):\n",
    "        return f\"{self.name.lower()}.{self.fname.lower()}.mktg@ironhack.com\"\n",
    "    \n",
    "    def info(self):\n",
    "        print(f\"Name: {self.name}\")\n",
    "        print(f\"Surname: {self.fname}\")\n",
    "        print(f\"Time off available: {self.time_off} days\")\n",
    "        print(f\"Email: {self.email}\")\n",
    "        print(f\"Hobbies: {','.join(self.hobbies)}\")\n",
    "        print(f\"Company: {self.company}\")\n",
    "\n",
    "\n",
    "    "
   ]
  },
  {
   "cell_type": "code",
   "execution_count": 73,
   "metadata": {},
   "outputs": [
    {
     "name": "stdout",
     "output_type": "stream",
     "text": [
      "We added: Photography\n",
      "We added: Animals\n",
      "Name: Laura\n",
      "Surname: Molas\n",
      "Time off available: 30 days\n",
      "Email: laura.molas@ironhack.com\n",
      "Hobbies: Photography,Animals\n",
      "Company: IronHack\n"
     ]
    },
    {
     "data": {
      "text/plain": [
       "'Hello, my name is Laura! I am from the Marketing department.'"
      ]
     },
     "execution_count": 73,
     "metadata": {},
     "output_type": "execute_result"
    }
   ],
   "source": [
    "#Try if your Class is well defined with this example: \n",
    "mktg=Marketing(\"Laura\", \"Molas\")\n",
    "mktg.hobbies_function(\"Photography\", \"Animals\")\n",
    "mktg.info()\n",
    "mktg.introduce()"
   ]
  }
 ],
 "metadata": {
  "kernelspec": {
   "display_name": "local",
   "language": "python",
   "name": "python3"
  },
  "language_info": {
   "codemirror_mode": {
    "name": "ipython",
    "version": 3
   },
   "file_extension": ".py",
   "mimetype": "text/x-python",
   "name": "python",
   "nbconvert_exporter": "python",
   "pygments_lexer": "ipython3",
   "version": "3.11.7"
  }
 },
 "nbformat": 4,
 "nbformat_minor": 2
}
